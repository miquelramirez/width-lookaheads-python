{
 "cells": [
  {
   "cell_type": "code",
   "execution_count": 1,
   "metadata": {},
   "outputs": [
    {
     "name": "stderr",
     "output_type": "stream",
     "text": [
      "/usr/local/lib/python3.5/dist-packages/h5py/__init__.py:36: FutureWarning: Conversion of the second argument of issubdtype from `float` to `np.floating` is deprecated. In future, it will be treated as `np.float64 == np.dtype(float).type`.\n",
      "  from ._conv import register_converters as _register_converters\n",
      "Using TensorFlow backend.\n"
     ]
    }
   ],
   "source": [
    "import time\n",
    "import numpy as np\n",
    "import gym\n",
    "import matplotlib.pyplot as plt\n",
    "\n",
    "import sys\n",
    "sys.path.append('../..')\n",
    "\n",
    "import pnl.envs\n",
    "from pnl.policies import ZeroPolicy, RandomPolicy"
   ]
  },
  {
   "cell_type": "markdown",
   "metadata": {},
   "source": [
    "## Parameters for Baselines"
   ]
  },
  {
   "cell_type": "code",
   "execution_count": 2,
   "metadata": {
    "collapsed": true
   },
   "outputs": [],
   "source": [
    "H = 100 # Horizon, 50 seconds of simulated time\n",
    "N = 10 # Number of Rollouts\n",
    "dt = 0.1"
   ]
  },
  {
   "cell_type": "markdown",
   "metadata": {},
   "source": [
    "## Zero Policy"
   ]
  },
  {
   "cell_type": "code",
   "execution_count": 3,
   "metadata": {},
   "outputs": [
    {
     "name": "stdout",
     "output_type": "stream",
     "text": [
      "Zero baseline cost: -10363.724915417362\n"
     ]
    }
   ],
   "source": [
    "env = gym.make('WalkBot-RandomInit-v0')\n",
    "zero_baseline = np.zeros((N,1))\n",
    "\n",
    "env.seed(1337)\n",
    "zero_pi = ZeroPolicy()\n",
    "\n",
    "for k in range(N):\n",
    "    x = env.reset()\n",
    "    for s in range(H):\n",
    "        u = zero_pi.get_action(env, x)\n",
    "        x, reward, done, info = env.step(u)\n",
    "        zero_baseline[k] += reward\n",
    "        if done : break\n",
    "\n",
    "zero_baseline_cost = np.mean(zero_baseline)\n",
    "print(\"Zero baseline cost: {}\".format(zero_baseline_cost))"
   ]
  },
  {
   "cell_type": "markdown",
   "metadata": {},
   "source": [
    "#### Demonstration"
   ]
  },
  {
   "cell_type": "code",
   "execution_count": 4,
   "metadata": {
    "collapsed": true
   },
   "outputs": [],
   "source": [
    "env = gym.make('WalkBot-RandomInit-v0')\n",
    "env.seed(1337)\n",
    "zero_pi = ZeroPolicy()\n",
    "\n",
    "x = env.reset()\n",
    "for s in range(H):\n",
    "    env.render()\n",
    "    time.sleep(dt)\n",
    "    u = zero_pi.get_action(env, x)\n",
    "    x, reward, done, info = env.step(u)\n",
    "    \n",
    "    if done : break\n",
    "env.close()"
   ]
  },
  {
   "cell_type": "markdown",
   "metadata": {},
   "source": [
    "## Random Policy"
   ]
  },
  {
   "cell_type": "code",
   "execution_count": 5,
   "metadata": {},
   "outputs": [
    {
     "name": "stdout",
     "output_type": "stream",
     "text": [
      "Random baseline cost: -10519.198836013291\n"
     ]
    }
   ],
   "source": [
    "env = gym.make('WalkBot-RandomInit-v0')\n",
    "np.random.seed(1337)\n",
    "env.seed(1337)\n",
    "\n",
    "random_baseline = np.zeros((N,1))\n",
    "random_pi = RandomPolicy()\n",
    "\n",
    "for k in range(N):\n",
    "    x = env.reset()\n",
    "    for s in range(H):\n",
    "        u = random_pi.get_action(env, x)\n",
    "        x, reward, done, info = env.step(u)\n",
    "        random_baseline[k] += reward\n",
    "        if done : \n",
    "            break\n",
    "\n",
    "random_baseline_cost = np.mean(random_baseline)\n",
    "print(\"Random baseline cost: {}\".format(random_baseline_cost))"
   ]
  },
  {
   "cell_type": "markdown",
   "metadata": {},
   "source": [
    "#### Demonstration"
   ]
  },
  {
   "cell_type": "code",
   "execution_count": 6,
   "metadata": {
    "collapsed": true
   },
   "outputs": [],
   "source": [
    "env = gym.make('WalkBot-RandomInit-v0')\n",
    "np.random.seed(1337)\n",
    "env.seed(1337)\n",
    "random_pi = RandomPolicy()\n",
    "\n",
    "x = env.reset()\n",
    "for s in range(H):\n",
    "    env.render()\n",
    "    time.sleep(dt)\n",
    "    u = random_pi.get_action(env, x)\n",
    "    x, reward, done, info = env.step(u)\n",
    "    if done : break\n",
    "env.close()"
   ]
  }
 ],
 "metadata": {
  "kernelspec": {
   "display_name": "Python 3",
   "language": "python",
   "name": "python3"
  },
  "language_info": {
   "codemirror_mode": {
    "name": "ipython",
    "version": 3
   },
   "file_extension": ".py",
   "mimetype": "text/x-python",
   "name": "python",
   "nbconvert_exporter": "python",
   "pygments_lexer": "ipython3",
   "version": "3.5.2"
  }
 },
 "nbformat": 4,
 "nbformat_minor": 2
}
