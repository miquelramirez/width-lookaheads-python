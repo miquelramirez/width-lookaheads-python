{
 "cells": [
  {
   "cell_type": "code",
   "execution_count": 1,
   "metadata": {},
   "outputs": [
    {
     "name": "stderr",
     "output_type": "stream",
     "text": [
      "/usr/local/lib/python3.5/dist-packages/h5py/__init__.py:36: FutureWarning: Conversion of the second argument of issubdtype from `float` to `np.floating` is deprecated. In future, it will be treated as `np.float64 == np.dtype(float).type`.\n",
      "  from ._conv import register_converters as _register_converters\n",
      "Using TensorFlow backend.\n"
     ]
    }
   ],
   "source": [
    "import numpy as np\n",
    "import gym\n",
    "import matplotlib.pyplot as plt\n",
    "\n",
    "import sys\n",
    "sys.path.append('../..')\n",
    "\n",
    "import wizluk.envs\n",
    "from wizluk.policies import ContinuousZeroPolicy, ContinuousRandomPolicy"
   ]
  },
  {
   "cell_type": "markdown",
   "metadata": {},
   "source": [
    "## Initialisation"
   ]
  },
  {
   "cell_type": "code",
   "execution_count": 2,
   "metadata": {},
   "outputs": [
    {
     "name": "stdout",
     "output_type": "stream",
     "text": [
      "\u001b[33mWARN: gym.spaces.Box autodetected dtype as <class 'numpy.float32'>. Please provide explicit dtype.\u001b[0m\n",
      "\u001b[33mWARN: gym.spaces.Box autodetected dtype as <class 'numpy.float32'>. Please provide explicit dtype.\u001b[0m\n"
     ]
    }
   ],
   "source": [
    "env = gym.make('RechtLQR-v0')"
   ]
  },
  {
   "cell_type": "markdown",
   "metadata": {},
   "source": [
    "## Parameteres for Baselines"
   ]
  },
  {
   "cell_type": "code",
   "execution_count": 3,
   "metadata": {
    "collapsed": true
   },
   "outputs": [],
   "source": [
    "H = 500 # Horizon\n",
    "N = 10 # Trials"
   ]
  },
  {
   "cell_type": "markdown",
   "metadata": {},
   "source": [
    "## Zero Policy"
   ]
  },
  {
   "cell_type": "code",
   "execution_count": 4,
   "metadata": {},
   "outputs": [
    {
     "name": "stdout",
     "output_type": "stream",
     "text": [
      "\u001b[33mWARN: gym.spaces.Box autodetected dtype as <class 'numpy.float32'>. Please provide explicit dtype.\u001b[0m\n",
      "\u001b[33mWARN: gym.spaces.Box autodetected dtype as <class 'numpy.float32'>. Please provide explicit dtype.\u001b[0m\n",
      "Zero baseline cost: -347655.4727799439\n"
     ]
    }
   ],
   "source": [
    "env = gym.make('RechtLQR-v0')\n",
    "zero_baseline = np.zeros((N,1))\n",
    "\n",
    "env.seed(1337)\n",
    "zero_pi = ContinuousZeroPolicy()\n",
    "\n",
    "for k in range(N):\n",
    "    x = env.reset()\n",
    "    for s in range(H):\n",
    "        u = zero_pi.get_action(env, x)\n",
    "        x, reward, done, info = env.step(u)\n",
    "        zero_baseline[k] += reward\n",
    "        if done : break\n",
    "\n",
    "zero_baseline_cost = np.mean(zero_baseline)\n",
    "print(\"Zero baseline cost: {}\".format(zero_baseline_cost))"
   ]
  },
  {
   "cell_type": "markdown",
   "metadata": {},
   "source": [
    "## Random Policy"
   ]
  },
  {
   "cell_type": "code",
   "execution_count": 6,
   "metadata": {},
   "outputs": [
    {
     "name": "stdout",
     "output_type": "stream",
     "text": [
      "\u001b[33mWARN: gym.spaces.Box autodetected dtype as <class 'numpy.float32'>. Please provide explicit dtype.\u001b[0m\n",
      "\u001b[33mWARN: gym.spaces.Box autodetected dtype as <class 'numpy.float32'>. Please provide explicit dtype.\u001b[0m\n",
      "Random baseline cost: -1.8896026761844254e+21\n"
     ]
    }
   ],
   "source": [
    "env = gym.make('RechtLQR-v0')\n",
    "np.random.seed(1337)\n",
    "env.seed(1337)\n",
    "\n",
    "random_baseline = np.zeros((N,1))\n",
    "random_pi = ContinuousRandomPolicy()\n",
    "\n",
    "for k in range(N):\n",
    "    x = env.reset()\n",
    "    for s in range(H):\n",
    "        u = random_pi.get_action(env, x)\n",
    "        x, reward, done, info = env.step(u)\n",
    "        random_baseline[k] += reward\n",
    "        if done : break\n",
    "\n",
    "random_baseline_cost = np.mean(random_baseline)\n",
    "print(\"Random baseline cost: {}\".format(random_baseline_cost))"
   ]
  },
  {
   "cell_type": "code",
   "execution_count": null,
   "metadata": {
    "collapsed": true
   },
   "outputs": [],
   "source": []
  }
 ],
 "metadata": {
  "kernelspec": {
   "display_name": "Python 3",
   "language": "python",
   "name": "python3"
  },
  "language_info": {
   "codemirror_mode": {
    "name": "ipython",
    "version": 3
   },
   "file_extension": ".py",
   "mimetype": "text/x-python",
   "name": "python",
   "nbconvert_exporter": "python",
   "pygments_lexer": "ipython3",
   "version": "3.5.2"
  }
 },
 "nbformat": 4,
 "nbformat_minor": 2
}
